{
  "cells": [
    {
      "cell_type": "code",
      "execution_count": null,
      "metadata": {
        "id": "Q0bVHBFnV8sU"
      },
      "outputs": [],
      "source": []
    },
    {
      "cell_type": "code",
      "execution_count": 2,
      "metadata": {
        "colab": {
          "base_uri": "https://localhost:8080/"
        },
        "id": "PwrR2q7tZKPi",
        "outputId": "81620bf2-0b5a-4aa2-d7a9-fbee6eedae58"
      },
      "outputs": [
        {
          "output_type": "stream",
          "name": "stdout",
          "text": [
            "Real Y is [-3, -1, 1, 3, 5, 7]\n",
            "My Y is   [-4, -1, 2, 5, 8, 11]\n",
            "My loss is: 5.5677643628300215\n"
          ]
        }
      ],
      "source": [
        "import math\n",
        "# Edit these parameters to try different loss measurements. Rerun this cell when\n",
        "# done. Your Y will be calculated as Y=wX+b, so if w=3, and b=-1, then Y=3x-1.\n",
        "\n",
        "w = 3\n",
        "b = -1\n",
        "\n",
        "x = [-1, 0, 1, 2, 3, 4]\n",
        "y = [-3, -1, 1, 3, 5, 7]\n",
        "myY = []\n",
        "\n",
        "\n",
        "for thisX in x:\n",
        "  thisY = (w*thisX)+b\n",
        "  myY.append(thisY)\n",
        "\n",
        "print(f\"Real Y is {str(y)}\")\n",
        "print(f\"My Y is   {str(myY)}\")\n",
        "\n",
        "# let's calculate the loss\n",
        "total_square_error = 0\n",
        "for i in range(0, len(y)):\n",
        "  square_error = (y[i] - myY[i]) ** 2\n",
        "  total_square_error += square_error\n",
        "\n",
        "print(f\"My loss is: {str(math.sqrt(total_square_error))}\")"
      ]
    }
  ],
  "metadata": {
    "colab": {
      "name": "ExploringLoss.ipynb",
      "provenance": []
    },
    "kernelspec": {
      "display_name": "Python 3",
      "language": "python",
      "name": "python3"
    },
    "language_info": {
      "codemirror_mode": {
        "name": "ipython",
        "version": 3
      },
      "file_extension": ".py",
      "mimetype": "text/x-python",
      "name": "python",
      "nbconvert_exporter": "python",
      "pygments_lexer": "ipython3",
      "version": "3.10.11"
    }
  },
  "nbformat": 4,
  "nbformat_minor": 0
}